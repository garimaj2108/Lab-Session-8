{
 "cells": [
  {
   "cell_type": "code",
   "execution_count": 1,
   "metadata": {
    "collapsed": true
   },
   "outputs": [],
   "source": [
    "import pandas as pd"
   ]
  },
  {
   "cell_type": "code",
   "execution_count": 2,
   "metadata": {
    "collapsed": true
   },
   "outputs": [],
   "source": [
    "url = 'http://higheredublog.com/top-universities-for-ms-in-mis-in-usa/'"
   ]
  },
  {
   "cell_type": "code",
   "execution_count": 3,
   "metadata": {
    "collapsed": false
   },
   "outputs": [],
   "source": [
    "data = pd.read_html(url, header = 0)"
   ]
  },
  {
   "cell_type": "code",
   "execution_count": 4,
   "metadata": {
    "collapsed": false
   },
   "outputs": [
    {
     "data": {
      "text/plain": [
       "[    Sr. No                                         University      Program\n",
       " 0        1                 Carnegie Mellon University (Heinz)         MISM\n",
       " 1        2          Indiana University – Bloomington (Kelley)        MS IS\n",
       " 2        3       University of California, Berkeley (iSchool)         MIMS\n",
       " 3        4  University of Washington, Seattle (iSchool/Fos...  MS IM/MS IS\n",
       " 4        5                      University of Arizona (Eller)       MS MIS\n",
       " 5        6       Texas A&M University, College Station (Mays)       MS MIS\n",
       " 6        7                        New York University (Stern)        MS IS\n",
       " 7        8                   Rensselaer Polytechnic Institute  MS IT/MS BA\n",
       " 8        9                      Syracuse University (iSchool)        MS IM\n",
       " 9       10                     SUNY Buffalo (School of Mgmt.)       MS MIS\n",
       " 10      11  University of Maryland, College Park (B School...    MS IS/MIM\n",
       " 11      12          University of Cincinnati, Ohio (B-School)        MS IS\n",
       " 12      13                    University of Illinois, Chicago       MS MIS\n",
       " 13      14        University of Michigan, Ann Arbon (iSchool)          MSI\n",
       " 14      15                    Worcester Polytechnic Institute        MS IT\n",
       " 15      16                                 Bentley University        MS IT\n",
       " 16      17         University of Illinois at Urbana–Champaign        MS TM\n",
       " 17      18                       George Washington University       MS IST\n",
       " 18      19        Rutgers, The State University of New Jersey        MS IT\n",
       " 19      20                              Iowa State University        MS IS\n",
       " 20      21                                  Purdue University       MS CIT\n",
       " 21      22                          University of Connecticut      MS BAPM\n",
       " 22      23                   Illinois Institute of Technology       MS ITM\n",
       " 23      24                           Okhlama State University       MS MIS\n",
       " 24      25            Polytechnic School of Engineering – NYU       MS MOT\n",
       " 25      26                             Santa Clara University        MS IS\n",
       " 26      27                           Georgia State University       MS CIS\n",
       " 27      28                              University of Florida      MS ISOM\n",
       " 28      29                    Northeastern University, Boston        MS IS\n",
       " 29      30                        University of Texas, Dallas       MS ITM\n",
       " ..     ...                                                ...          ...\n",
       " 31      32                        University of South Florida       MS MIS\n",
       " 32      33                  Rochester Institute of Technology       MS IST\n",
       " 33      34            University of North Carolina, Charlotte        MS IT\n",
       " 34      35                            George Mason University        MS IS\n",
       " 35      36                                 University of Utah        MS IS\n",
       " 36      37                             University of Arkansas        MS IS\n",
       " 37      38                      Claremont Graduate University       MS IST\n",
       " 38      39                             University of Nebraska       MS MIS\n",
       " 39      40                   University of Texas at Arlington        MS IS\n",
       " 40      41                              Texas Tech University       MS MIS\n",
       " 41      42                      University of Texas at Austin        MS BA\n",
       " 42      43                           Arizona State University        MS BA\n",
       " 43      44                           University of Pittsburgh        MS IS\n",
       " 44      45                         University of Pennsylvania       MS CIS\n",
       " 45      46                 New Jersey Institute of Technology        MS IS\n",
       " 46      47                         San Diego State University        MS IS\n",
       " 47      48                                  Boston University       MS CIS\n",
       " 48      49                  University of Houston, Clear Lake       MS MIS\n",
       " 49      50                       Northern Illinois University       MS MIS\n",
       " 50      51           University of Maryland, Baltimore County        MS IS\n",
       " 51      52                             University of Delaware        MS IS\n",
       " 52      53                                  Temple University       MS IST\n",
       " 53      54                              Utah State University       MS MIS\n",
       " 54      55                          Illinois State University        MS IS\n",
       " 55      56                     University of Colorado, Denver        MS IS\n",
       " 56      57               University of Illinois – Springfield       MS MIS\n",
       " 57      58                                 Cornell University       MPS IS\n",
       " 58      59                   Florida International University       MS MIS\n",
       " 59      60                           Brigham Young University         MISM\n",
       " 60      61                  University of Alabama, Huntsville        MS IS\n",
       " \n",
       " [61 rows x 3 columns]]"
      ]
     },
     "execution_count": 4,
     "metadata": {},
     "output_type": "execute_result"
    }
   ],
   "source": [
    "data"
   ]
  },
  {
   "cell_type": "code",
   "execution_count": 5,
   "metadata": {
    "collapsed": false
   },
   "outputs": [
    {
     "data": {
      "text/html": [
       "<div>\n",
       "<table border=\"1\" class=\"dataframe\">\n",
       "  <thead>\n",
       "    <tr style=\"text-align: right;\">\n",
       "      <th></th>\n",
       "      <th>Sr. No</th>\n",
       "      <th>University</th>\n",
       "      <th>Program</th>\n",
       "    </tr>\n",
       "  </thead>\n",
       "  <tbody>\n",
       "    <tr>\n",
       "      <th>0</th>\n",
       "      <td>1</td>\n",
       "      <td>Carnegie Mellon University (Heinz)</td>\n",
       "      <td>MISM</td>\n",
       "    </tr>\n",
       "    <tr>\n",
       "      <th>1</th>\n",
       "      <td>2</td>\n",
       "      <td>Indiana University – Bloomington (Kelley)</td>\n",
       "      <td>MS IS</td>\n",
       "    </tr>\n",
       "    <tr>\n",
       "      <th>2</th>\n",
       "      <td>3</td>\n",
       "      <td>University of California, Berkeley (iSchool)</td>\n",
       "      <td>MIMS</td>\n",
       "    </tr>\n",
       "    <tr>\n",
       "      <th>3</th>\n",
       "      <td>4</td>\n",
       "      <td>University of Washington, Seattle (iSchool/Fos...</td>\n",
       "      <td>MS IM/MS IS</td>\n",
       "    </tr>\n",
       "    <tr>\n",
       "      <th>4</th>\n",
       "      <td>5</td>\n",
       "      <td>University of Arizona (Eller)</td>\n",
       "      <td>MS MIS</td>\n",
       "    </tr>\n",
       "  </tbody>\n",
       "</table>\n",
       "</div>"
      ],
      "text/plain": [
       "   Sr. No                                         University      Program\n",
       "0       1                 Carnegie Mellon University (Heinz)         MISM\n",
       "1       2          Indiana University – Bloomington (Kelley)        MS IS\n",
       "2       3       University of California, Berkeley (iSchool)         MIMS\n",
       "3       4  University of Washington, Seattle (iSchool/Fos...  MS IM/MS IS\n",
       "4       5                      University of Arizona (Eller)       MS MIS"
      ]
     },
     "execution_count": 5,
     "metadata": {},
     "output_type": "execute_result"
    }
   ],
   "source": [
    "data1 = data[0]\n",
    "data1.head()"
   ]
  },
  {
   "cell_type": "code",
   "execution_count": 6,
   "metadata": {
    "collapsed": true
   },
   "outputs": [],
   "source": [
    "data1.columns = ['RANKING', 'UNIVERSITY', 'PROGRAM']"
   ]
  },
  {
   "cell_type": "code",
   "execution_count": 7,
   "metadata": {
    "collapsed": false
   },
   "outputs": [
    {
     "data": {
      "text/plain": [
       "RANKING        int64\n",
       "UNIVERSITY    object\n",
       "PROGRAM       object\n",
       "dtype: object"
      ]
     },
     "execution_count": 7,
     "metadata": {},
     "output_type": "execute_result"
    }
   ],
   "source": [
    "data1.dtypes"
   ]
  },
  {
   "cell_type": "code",
   "execution_count": 8,
   "metadata": {
    "collapsed": false
   },
   "outputs": [
    {
     "data": {
      "text/html": [
       "<div>\n",
       "<table border=\"1\" class=\"dataframe\">\n",
       "  <thead>\n",
       "    <tr style=\"text-align: right;\">\n",
       "      <th></th>\n",
       "      <th>RANKING</th>\n",
       "      <th>UNIVERSITY</th>\n",
       "      <th>PROGRAM</th>\n",
       "    </tr>\n",
       "  </thead>\n",
       "  <tbody>\n",
       "    <tr>\n",
       "      <th>0</th>\n",
       "      <td>1</td>\n",
       "      <td>Carnegie Mellon University (Heinz)</td>\n",
       "      <td>MISM</td>\n",
       "    </tr>\n",
       "    <tr>\n",
       "      <th>1</th>\n",
       "      <td>2</td>\n",
       "      <td>Indiana University – Bloomington (Kelley)</td>\n",
       "      <td>MS IS</td>\n",
       "    </tr>\n",
       "    <tr>\n",
       "      <th>2</th>\n",
       "      <td>3</td>\n",
       "      <td>University of California, Berkeley (iSchool)</td>\n",
       "      <td>MIMS</td>\n",
       "    </tr>\n",
       "    <tr>\n",
       "      <th>3</th>\n",
       "      <td>4</td>\n",
       "      <td>University of Washington, Seattle (iSchool/Fos...</td>\n",
       "      <td>MS IM/MS IS</td>\n",
       "    </tr>\n",
       "    <tr>\n",
       "      <th>4</th>\n",
       "      <td>5</td>\n",
       "      <td>University of Arizona (Eller)</td>\n",
       "      <td>MS MIS</td>\n",
       "    </tr>\n",
       "  </tbody>\n",
       "</table>\n",
       "</div>"
      ],
      "text/plain": [
       "   RANKING                                         UNIVERSITY      PROGRAM\n",
       "0        1                 Carnegie Mellon University (Heinz)         MISM\n",
       "1        2          Indiana University – Bloomington (Kelley)        MS IS\n",
       "2        3       University of California, Berkeley (iSchool)         MIMS\n",
       "3        4  University of Washington, Seattle (iSchool/Fos...  MS IM/MS IS\n",
       "4        5                      University of Arizona (Eller)       MS MIS"
      ]
     },
     "execution_count": 8,
     "metadata": {},
     "output_type": "execute_result"
    }
   ],
   "source": [
    "data1.head()"
   ]
  },
  {
   "cell_type": "code",
   "execution_count": 9,
   "metadata": {
    "collapsed": false
   },
   "outputs": [
    {
     "data": {
      "text/html": [
       "<div>\n",
       "<table border=\"1\" class=\"dataframe\">\n",
       "  <thead>\n",
       "    <tr style=\"text-align: right;\">\n",
       "      <th></th>\n",
       "      <th>RANKING</th>\n",
       "      <th>UNIVERSITY</th>\n",
       "      <th>PROGRAM</th>\n",
       "    </tr>\n",
       "  </thead>\n",
       "  <tbody>\n",
       "    <tr>\n",
       "      <th>0</th>\n",
       "      <td>1</td>\n",
       "      <td>Carnegie Mellon University (Heinz)</td>\n",
       "      <td>MISM</td>\n",
       "    </tr>\n",
       "    <tr>\n",
       "      <th>1</th>\n",
       "      <td>2</td>\n",
       "      <td>Indiana University – Bloomington (Kelley)</td>\n",
       "      <td>MS IS</td>\n",
       "    </tr>\n",
       "    <tr>\n",
       "      <th>2</th>\n",
       "      <td>3</td>\n",
       "      <td>University of California, Berkeley (iSchool)</td>\n",
       "      <td>MIMS</td>\n",
       "    </tr>\n",
       "    <tr>\n",
       "      <th>3</th>\n",
       "      <td>4</td>\n",
       "      <td>University of Washington, Seattle (iSchool/Fos...</td>\n",
       "      <td>MS IM/MS IS</td>\n",
       "    </tr>\n",
       "    <tr>\n",
       "      <th>4</th>\n",
       "      <td>5</td>\n",
       "      <td>University of Arizona (Eller)</td>\n",
       "      <td>MS MIS</td>\n",
       "    </tr>\n",
       "  </tbody>\n",
       "</table>\n",
       "</div>"
      ],
      "text/plain": [
       "   RANKING                                         UNIVERSITY      PROGRAM\n",
       "0        1                 Carnegie Mellon University (Heinz)         MISM\n",
       "1        2          Indiana University – Bloomington (Kelley)        MS IS\n",
       "2        3       University of California, Berkeley (iSchool)         MIMS\n",
       "3        4  University of Washington, Seattle (iSchool/Fos...  MS IM/MS IS\n",
       "4        5                      University of Arizona (Eller)       MS MIS"
      ]
     },
     "execution_count": 9,
     "metadata": {},
     "output_type": "execute_result"
    }
   ],
   "source": [
    "df = pd.DataFrame(data1)\n",
    "df.head()"
   ]
  },
  {
   "cell_type": "code",
   "execution_count": 10,
   "metadata": {
    "collapsed": false
   },
   "outputs": [],
   "source": [
    "df.to_csv('univ_ranking.csv', index=False, encoding='utf-8')"
   ]
  },
  {
   "cell_type": "code",
   "execution_count": null,
   "metadata": {
    "collapsed": true
   },
   "outputs": [],
   "source": []
  },
  {
   "cell_type": "code",
   "execution_count": null,
   "metadata": {
    "collapsed": true
   },
   "outputs": [],
   "source": []
  },
  {
   "cell_type": "code",
   "execution_count": null,
   "metadata": {
    "collapsed": true
   },
   "outputs": [],
   "source": []
  },
  {
   "cell_type": "code",
   "execution_count": null,
   "metadata": {
    "collapsed": true
   },
   "outputs": [],
   "source": []
  },
  {
   "cell_type": "code",
   "execution_count": null,
   "metadata": {
    "collapsed": true
   },
   "outputs": [],
   "source": []
  },
  {
   "cell_type": "code",
   "execution_count": null,
   "metadata": {
    "collapsed": true
   },
   "outputs": [],
   "source": []
  },
  {
   "cell_type": "code",
   "execution_count": null,
   "metadata": {
    "collapsed": true
   },
   "outputs": [],
   "source": []
  },
  {
   "cell_type": "code",
   "execution_count": null,
   "metadata": {
    "collapsed": true
   },
   "outputs": [],
   "source": []
  },
  {
   "cell_type": "code",
   "execution_count": null,
   "metadata": {
    "collapsed": true
   },
   "outputs": [],
   "source": []
  },
  {
   "cell_type": "code",
   "execution_count": null,
   "metadata": {
    "collapsed": true
   },
   "outputs": [],
   "source": []
  },
  {
   "cell_type": "code",
   "execution_count": null,
   "metadata": {
    "collapsed": true
   },
   "outputs": [],
   "source": []
  },
  {
   "cell_type": "code",
   "execution_count": null,
   "metadata": {
    "collapsed": true
   },
   "outputs": [],
   "source": []
  },
  {
   "cell_type": "code",
   "execution_count": null,
   "metadata": {
    "collapsed": true
   },
   "outputs": [],
   "source": []
  },
  {
   "cell_type": "code",
   "execution_count": 57,
   "metadata": {
    "collapsed": true
   },
   "outputs": [],
   "source": []
  },
  {
   "cell_type": "code",
   "execution_count": 58,
   "metadata": {
    "collapsed": true
   },
   "outputs": [],
   "source": []
  },
  {
   "cell_type": "code",
   "execution_count": null,
   "metadata": {
    "collapsed": true
   },
   "outputs": [],
   "source": []
  },
  {
   "cell_type": "code",
   "execution_count": null,
   "metadata": {
    "collapsed": true
   },
   "outputs": [],
   "source": []
  },
  {
   "cell_type": "code",
   "execution_count": null,
   "metadata": {
    "collapsed": true
   },
   "outputs": [],
   "source": []
  },
  {
   "cell_type": "code",
   "execution_count": null,
   "metadata": {
    "collapsed": true
   },
   "outputs": [],
   "source": []
  },
  {
   "cell_type": "code",
   "execution_count": null,
   "metadata": {
    "collapsed": true
   },
   "outputs": [],
   "source": []
  }
 ],
 "metadata": {
  "kernelspec": {
   "display_name": "Python 2",
   "language": "python",
   "name": "python2"
  },
  "language_info": {
   "codemirror_mode": {
    "name": "ipython",
    "version": 2
   },
   "file_extension": ".py",
   "mimetype": "text/x-python",
   "name": "python",
   "nbconvert_exporter": "python",
   "pygments_lexer": "ipython2",
   "version": "2.7.13"
  }
 },
 "nbformat": 4,
 "nbformat_minor": 2
}
